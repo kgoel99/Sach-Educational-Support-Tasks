{
 "cells": [
  {
   "cell_type": "code",
   "execution_count": 63,
   "metadata": {},
   "outputs": [
    {
     "name": "stdout",
     "output_type": "stream",
     "text": [
      "Enter number to get prime factors: 1\n",
      "The Prime factors are as follows:  Invalid number, no prime factors exist.\n"
     ]
    }
   ],
   "source": [
    "import math\n",
    "\n",
    "#Function to print all prime factors\n",
    "def findprime(n):\n",
    "        \n",
    "    #Divide by 2 completely to make number odd\n",
    "    while n % 2 == 0:\n",
    "        print (2, end=\" \")\n",
    "        n = n / 2\n",
    "    \n",
    "    i = 3\n",
    "    #Using prime factor condition(square root of number) and checking up to that point only\n",
    "    #as the number won't have any more prime factors further than that\n",
    "    while i < int(math.sqrt(n)+1):\n",
    "        while n % i == 0:\n",
    "            print (i, end=\" \")\n",
    "            n = n / i\n",
    "        i = i + 2\n",
    "    \n",
    "    #Contition to see if the number is prime\n",
    "    if n > 2:\n",
    "        print (int(n), end=\" \")\n",
    "    else:\n",
    "        print(\"Invalid number, no prime factors exist.\")        \n",
    "\n",
    "#Take input from user\n",
    "num = int(input(\"Enter number to get prime factors: \"))\n",
    "\n",
    "#Call function to find prime factors\n",
    "findprime(num)"
   ]
  },
  {
   "cell_type": "code",
   "execution_count": null,
   "metadata": {},
   "outputs": [],
   "source": [
    "import math\n",
    "\n",
    "#Function to find product\n",
    "def CalculateProduct(n):\n",
    "    mult = 1\n",
    "    \n",
    "    #Check divisibility by 2 and multiply the variable with it if condition satisfied\n",
    "    if n % 2 == 0:\n",
    "        mult *= 2\n",
    "        \n",
    "        #Recursively divide the number by 2 to remove it as a factor and make the product unique\n",
    "        while n % 2 == 0:\n",
    "            n = n / 2\n",
    "    \n",
    "    i = 3\n",
    "    #Using prime factor condition(square root of number) and checking up to that point only\n",
    "    #as the number won't have any more prime factors further than that\n",
    "    while i < int(math.sqrt(n)+1):\n",
    "        \n",
    "        #Check if number is divisible by the prime number and multiply the variable by it if condition satisfied\n",
    "        if n % i == 0:\n",
    "            mult *= i\n",
    "            \n",
    "            #Divide the number recursively to make it uniquely divisible by that number\n",
    "            while n % i == 0:\n",
    "                n = n / i\n",
    "        i = i + 2\n",
    "    \n",
    "    #Contition to see if the number itself is prime\n",
    "    if n > 2:\n",
    "        #multiply by initial value of mult\n",
    "        mult *= n\n",
    "        \n",
    "        #Print the product\n",
    "        print(\"The product is as follows: \",mult)\n",
    "    else:\n",
    "        print(\"Invalid number, no prime factors exist.\")\n",
    "\n",
    "#Take input from user\n",
    "num = int(input(\"Enter number to get product of prime factors: \"))\n",
    "\n",
    "#Call function to find the product\n",
    "CalculateProduct(num)"
   ]
  }
 ],
 "metadata": {
  "kernelspec": {
   "display_name": "Python 3",
   "language": "python",
   "name": "python3"
  },
  "language_info": {
   "codemirror_mode": {
    "name": "ipython",
    "version": 3
   },
   "file_extension": ".py",
   "mimetype": "text/x-python",
   "name": "python",
   "nbconvert_exporter": "python",
   "pygments_lexer": "ipython3",
   "version": "3.7.6"
  }
 },
 "nbformat": 4,
 "nbformat_minor": 4
}
